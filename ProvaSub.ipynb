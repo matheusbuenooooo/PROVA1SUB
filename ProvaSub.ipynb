{
 "cells": [
  {
   "cell_type": "code",
   "execution_count": 19,
   "id": "ec9b520a-9e81-46b7-9c88-e39c0046c7a0",
   "metadata": {},
   "outputs": [
    {
     "name": "stdin",
     "output_type": "stream",
     "text": [
      "Digite seu peso em KG:  68\n",
      "Digite sua altura em metros:  1.75\n"
     ]
    },
    {
     "name": "stdout",
     "output_type": "stream",
     "text": [
      "22.20408163265306 Peso normal\n"
     ]
    }
   ],
   "source": [
    "peso = float(input(\"Digite seu peso em KG: \"))\n",
    "altura = float(input(\"Digite sua altura em metros: \"))\n",
    "\n",
    "IMC = peso / altura ** 2\n",
    "\n",
    "if IMC < 18.5:\n",
    "    print(f\"{IMC} Abaixo do peso\")\n",
    "elif IMC == 18.5 or IMC < 24.9:\n",
    "    print(f\"{IMC} Peso normal\")\n",
    "elif IMC == 25 or IMC < 29.9:\n",
    "    print(f\"{IMC} Sobrepeso\")\n",
    "else:\n",
    "    print(f\"{IMC} Obesidade\")"
   ]
  },
  {
   "cell_type": "code",
   "execution_count": 180,
   "id": "60ac9000-d71a-4c14-a8f3-4e8ad5cf2948",
   "metadata": {},
   "outputs": [
    {
     "name": "stdin",
     "output_type": "stream",
     "text": [
      "Digite um número positivo inteiro:  7\n"
     ]
    },
    {
     "name": "stdout",
     "output_type": "stream",
     "text": [
      "A soma dos números pares é: 8\n"
     ]
    }
   ],
   "source": [
    "n = int(input(\"Digite um número positivo inteiro: \"))\n",
    "\n",
    "if n > n+1 and n < 0:\n",
    "    soma = n + (((n - 1) % 2) == 0)\n",
    "\n",
    "print(f\"A soma dos números pares é: {soma}\")"
   ]
  },
  {
   "cell_type": "code",
   "execution_count": 112,
   "id": "9e3f378c-678a-47c3-9b05-5b774f5be6a6",
   "metadata": {},
   "outputs": [
    {
     "name": "stdout",
     "output_type": "stream",
     "text": [
      "Jogador_1:  7\n",
      "Jogador_2:  7\n",
      "Empate\n"
     ]
    }
   ],
   "source": [
    "Dado1 = [1, 2, 3, 4, 5, 6]\n",
    "Dado2 = [1, 2, 3, 4, 5, 6]\n",
    "\n",
    "Jogador_1 = []\n",
    "Jogador_2 = []\n",
    "\n",
    "def jogo_dados():\n",
    "    len(Dado1)\n",
    "    return\n",
    "    n in Dado1(1, 6)\n",
    "\n",
    "    Jogador_1.append(n)\n",
    "\n",
    "    len(Dado2)\n",
    "    return\n",
    "    n in Dado2(1,6)\n",
    "\n",
    "    Jogador_2.append(n)\n",
    "\n",
    "print(\"Jogador_1: \", n)\n",
    "print(\"Jogador_2: \", n)\n",
    "\n",
    "if Jogador_1 == Jogador_2:\n",
    "    print(\"Empate\")\n",
    "\n",
    "elif Jogador_1 > Jogador_2:\n",
    "    print(\"Resultado: Jogador_1\")\n",
    "\n",
    "else:\n",
    "    print(\"Resultado: Jogador_2\")"
   ]
  },
  {
   "cell_type": "code",
   "execution_count": null,
   "id": "e676b560-3fc7-473f-95c9-0d58a3b6544f",
   "metadata": {},
   "outputs": [],
   "source": []
  }
 ],
 "metadata": {
  "kernelspec": {
   "display_name": "Python [conda env:base] *",
   "language": "python",
   "name": "conda-base-py"
  },
  "language_info": {
   "codemirror_mode": {
    "name": "ipython",
    "version": 3
   },
   "file_extension": ".py",
   "mimetype": "text/x-python",
   "name": "python",
   "nbconvert_exporter": "python",
   "pygments_lexer": "ipython3",
   "version": "3.12.7"
  }
 },
 "nbformat": 4,
 "nbformat_minor": 5
}
